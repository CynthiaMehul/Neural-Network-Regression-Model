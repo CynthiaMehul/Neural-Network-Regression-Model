{
  "nbformat": 4,
  "nbformat_minor": 0,
  "metadata": {
    "colab": {
      "provenance": []
    },
    "kernelspec": {
      "name": "python3",
      "display_name": "Python 3"
    },
    "language_info": {
      "name": "python"
    }
  },
  "cells": [
    {
      "cell_type": "code",
      "execution_count": null,
      "metadata": {
        "id": "f7xJNozKzl58"
      },
      "outputs": [],
      "source": [
        "import pandas as pd\n",
        "from sklearn.model_selection import train_test_split\n",
        "from sklearn.preprocessing import StandardScaler\n",
        "import matplotlib.pyplot as plt\n",
        "import torch"
      ]
    },
    {
      "cell_type": "code",
      "source": [
        "data=pd.read_csv('/content/linear.csv')\n",
        "x=data.iloc[:,0].values\n",
        "y=data.iloc[:,1].values"
      ],
      "metadata": {
        "id": "yRZs9gs209J2"
      },
      "execution_count": null,
      "outputs": []
    },
    {
      "cell_type": "code",
      "source": [
        "x_train,x_test,y_train,y_test=train_test_split(x,y,test_size=0.2,random_state=42)"
      ],
      "metadata": {
        "id": "XecuT8uP09UI"
      },
      "execution_count": null,
      "outputs": []
    },
    {
      "cell_type": "code",
      "source": [
        "scaler=StandardScaler()\n",
        "x_train=scaler.fit_transform(x_train.reshape(-1, 1))\n",
        "x_test=scaler.transform(x_test.reshape(-1, 1))"
      ],
      "metadata": {
        "id": "6KbIDbtW1FHW"
      },
      "execution_count": null,
      "outputs": []
    },
    {
      "cell_type": "code",
      "source": [
        "x_train_tensor=torch.tensor(x_train,dtype=torch.float32)\n",
        "y_train_tensor=torch.tensor(y_train,dtype=torch.float32).view(-1,1)\n",
        "x_test_tensor=torch.tensor(x_test,dtype=torch.float32)\n",
        "y_test_tensor=torch.tensor(y_test,dtype=torch.float32).view(-1,1)"
      ],
      "metadata": {
        "id": "M3SgYKQc3mOt"
      },
      "execution_count": null,
      "outputs": []
    },
    {
      "cell_type": "code",
      "source": [
        "class NeuralNetwork(torch.nn.Module):\n",
        "  def __init__(self):\n",
        "    super().__init__()\n",
        "    self.fc1=torch.nn.Linear(1,8)\n",
        "    self.fc2=torch.nn.Linear(8,12)\n",
        "    self.fc3=torch.nn.Linear(12,1)\n",
        "    self.relu=torch.nn.ReLU()\n",
        "    self.history={'loss':[]}\n",
        "\n",
        "  def forward(self,x):\n",
        "    x=self.relu(self.fc1(x))\n",
        "    x=self.relu(self.fc2(x))\n",
        "    x=self.fc3(x)\n",
        "    return x"
      ],
      "metadata": {
        "id": "3IXRwiaE45M7"
      },
      "execution_count": null,
      "outputs": []
    },
    {
      "cell_type": "code",
      "source": [
        "cynthia_brain=NeuralNetwork()\n",
        "loss_fn=torch.nn.MSELoss()\n",
        "optimizer=torch.optim.RMSprop(cynthia_brain.parameters(),lr=0.001)"
      ],
      "metadata": {
        "id": "xUsRFxTYtVg2"
      },
      "execution_count": null,
      "outputs": []
    },
    {
      "cell_type": "code",
      "source": [
        "def train_model(model, x_train, y_train, loss_fn, optimizer, epochs):\n",
        "  for epoch in range(epochs):\n",
        "    y_pred = model(x_train)\n",
        "    loss = loss_fn(y_pred, y_train)\n",
        "    optimizer.zero_grad()\n",
        "    loss.backward()\n",
        "    optimizer.step()\n",
        "\n",
        "    model.history['loss'].append(loss.item())\n",
        "    if epoch % 200 == 0:\n",
        "      print(f'Epoch [{epoch}/{epochs}], Loss: {loss.item():.6f}')"
      ],
      "metadata": {
        "id": "2_O5BVzdtVcw"
      },
      "execution_count": null,
      "outputs": []
    },
    {
      "cell_type": "code",
      "source": [
        "train_model(cynthia_brain, x_train_tensor, y_train_tensor, loss_fn, optimizer,2000)"
      ],
      "metadata": {
        "colab": {
          "base_uri": "https://localhost:8080/"
        },
        "id": "IIIk_Q4lzAOZ",
        "outputId": "28cb004e-6c60-4da7-d4db-0af16d4e0ad2"
      },
      "execution_count": null,
      "outputs": [
        {
          "output_type": "stream",
          "name": "stdout",
          "text": [
            "Epoch [0/2000], Loss: 14263.797852\n",
            "Epoch [200/2000], Loss: 12610.597656\n",
            "Epoch [400/2000], Loss: 9141.625000\n",
            "Epoch [600/2000], Loss: 4514.661621\n",
            "Epoch [800/2000], Loss: 1079.265381\n",
            "Epoch [1000/2000], Loss: 136.069122\n",
            "Epoch [1200/2000], Loss: 70.277428\n",
            "Epoch [1400/2000], Loss: 33.613686\n",
            "Epoch [1600/2000], Loss: 10.799138\n",
            "Epoch [1800/2000], Loss: 2.454098\n"
          ]
        }
      ]
    },
    {
      "cell_type": "code",
      "source": [
        "with torch.no_grad():\n",
        "  y_pred = cynthia_brain(x_test_tensor)\n",
        "  test_loss = loss_fn(y_pred, y_test_tensor)\n",
        "  print(f'Test Loss: {test_loss.item():.6f}')"
      ],
      "metadata": {
        "colab": {
          "base_uri": "https://localhost:8080/"
        },
        "id": "FFgD_35izGYJ",
        "outputId": "c7222cfc-ab79-464e-b1f1-18e665b1c71e"
      },
      "execution_count": null,
      "outputs": [
        {
          "output_type": "stream",
          "name": "stdout",
          "text": [
            "Test Loss: 102.892807\n"
          ]
        }
      ]
    },
    {
      "cell_type": "code",
      "source": [
        "loss_df = pd.DataFrame(cynthia_brain.history)\n",
        "loss_df.plot()\n",
        "plt.xlabel(\"Epochs\")\n",
        "plt.ylabel(\"Loss\")\n",
        "plt.title(\"Loss during Training\")\n",
        "plt.show()"
      ],
      "metadata": {
        "colab": {
          "base_uri": "https://localhost:8080/",
          "height": 472
        },
        "id": "DX8fCKid0Igg",
        "outputId": "de4d6c48-e46a-4d4f-8860-767df6ba87ea"
      },
      "execution_count": null,
      "outputs": [
        {
          "output_type": "display_data",
          "data": {
            "text/plain": [
              "<Figure size 640x480 with 1 Axes>"
            ],
            "image/png": "[encoded data removed]"
          },
          "metadata": {}
        }
      ]
    },
    {
      "cell_type": "code",
      "source": [
        "X_n1_1 = torch.tensor([[23]], dtype=torch.float32)\n",
        "prediction = cynthia_brain(torch.tensor(scaler.transform(X_n1_1), dtype=torch.float32)).item()\n",
        "print(f'Prediction: {prediction}')"
      ],
      "metadata": {
        "colab": {
          "base_uri": "https://localhost:8080/"
        },
        "id": "-RsatG530hKl",
        "outputId": "db8dc698-cf28-4b18-888e-40bbf31b5ff3"
      },
      "execution_count": null,
      "outputs": [
        {
          "output_type": "stream",
          "name": "stdout",
          "text": [
            "Prediction: 230.885986328125\n"
          ]
        }
      ]
    },
    {
      "cell_type": "code",
      "source": [],
      "metadata": {
        "id": "7oj2vLLn0u05"
      },
      "execution_count": null,
      "outputs": []
    }
  ]
}